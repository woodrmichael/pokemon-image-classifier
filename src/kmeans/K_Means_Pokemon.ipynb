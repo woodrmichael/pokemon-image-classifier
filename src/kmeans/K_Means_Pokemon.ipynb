{
 "cells": [
  {
   "cell_type": "markdown",
   "id": "f53ddd08",
   "metadata": {},
   "source": [
    "# k-Means Clustering Pokemon Weinbender\n",
    "\n",
    "### Alec Weinbender"
   ]
  },
  {
   "cell_type": "code",
   "execution_count": 45,
   "id": "a651fe35",
   "metadata": {},
   "outputs": [],
   "source": [
    "%matplotlib inline\n",
    "import matplotlib.pyplot as plt\n",
    "import seaborn as sns; sns.set()\n",
    "import numpy as np\n",
    "import pandas as pd\n",
    "from sklearn.cluster import KMeans\n",
    "import itertools\n",
    "from sklearn.metrics import silhouette_score, silhouette_samples, davies_bouldin_score\n",
    "from sklearn import preprocessing\n",
    "from sklearn.decomposition import PCA\n",
    "import os\n",
    "from PIL import Image\n",
    "import numpy as np\n",
    "from sklearn.metrics import adjusted_rand_score, normalized_mutual_info_score\n",
    "from collections import Counter"
   ]
  },
  {
   "cell_type": "markdown",
   "id": "b8426a62",
   "metadata": {},
   "source": [
    "## Excercise 1: \n",
    "Import the Candy data and show the first 10 rows.  Write a dataset description based on the information provided.  "
   ]
  },
  {
   "cell_type": "code",
   "execution_count": 81,
   "id": "d4654c15",
   "metadata": {
    "scrolled": true
   },
   "outputs": [],
   "source": [
    "import os\n",
    "from PIL import Image\n",
    "import numpy as np\n",
    "\n",
    "def load_images_from_folder(folder, target_size=(224, 224)):\n",
    "    images = []\n",
    "    labels = []\n",
    "    valid_extensions = {\".jpg\", \".jpeg\", \".png\", \".bmp\", \".gif\", \".tiff\"}\n",
    "    for label, subdir in enumerate(sorted(os.listdir(folder))):\n",
    "        subdir_path = os.path.join(folder, subdir)\n",
    "        if os.path.isdir(subdir_path):\n",
    "            for filename in os.listdir(subdir_path):\n",
    "                file_path = os.path.join(subdir_path, filename)\n",
    "                ext = os.path.splitext(filename)[1].lower()\n",
    "                if ext in valid_extensions:\n",
    "#                     print(f\"Processing image: {file_path}\")\n",
    "                    try:\n",
    "                        img = Image.open(file_path).convert('RGB')\n",
    "                        img = img.resize(target_size)\n",
    "                        images.append(np.array(img))\n",
    "                        labels.append(label)\n",
    "                    except Exception as e:\n",
    "                        print(f\"Error loading {file_path}: {e}\")\n",
    "                else:\n",
    "                    print(f\"Skipping non-image file: {file_path}\")\n",
    "    return np.array(images, dtype=np.uint8), np.array(labels, dtype=np.int32)"
   ]
  },
  {
   "cell_type": "code",
   "execution_count": 82,
   "id": "f4c5efc7",
   "metadata": {
    "scrolled": false
   },
   "outputs": [
    {
     "name": "stdout",
     "output_type": "stream",
     "text": [
      "Skipping non-image file: ../../stratified-data/train/Abra/desktop.ini\n"
     ]
    },
    {
     "name": "stderr",
     "output_type": "stream",
     "text": [
      "/usr/local/lib/python3.10/dist-packages/PIL/Image.py:1000: UserWarning: Palette images with Transparency expressed in bytes should be converted to RGBA images\n",
      "  warnings.warn(\n"
     ]
    },
    {
     "name": "stdout",
     "output_type": "stream",
     "text": [
      "Skipping non-image file: ../../stratified-data/train/Muk/d4ddd14c1d4340a680018d0b805bd1b2.asp\n",
      "Skipping non-image file: ../../stratified-data/train/Tentacruel/d6fb0a3046364ea2b49525c6f6b966e5.svg\n",
      "Skipping non-image file: ../../stratified-data/train/Wigglytuff/4f3c72df431a49d4b3fbc84c94f2261e.jpg~c200\n",
      "Skipping non-image file: ../../stratified-data/train/Zapdos/c99b2d19544c4cbbacd7711ade660279.svg\n",
      "Skipping non-image file: ../../stratified-data/test/Mewtwo/00000008.png.sb-334870d9-FK2TVI\n"
     ]
    }
   ],
   "source": [
    "# Load training and testing data\n",
    "train_images, train_labels = load_images_from_folder(\"../../stratified-data/train\")\n",
    "test_images, test_labels = load_images_from_folder(\"../../stratified-data/test\")"
   ]
  },
  {
   "cell_type": "markdown",
   "id": "52b4faa6",
   "metadata": {},
   "source": [
    "Each image becomes a single row in a 2D array where:\n",
    "Number of rows = Number of images.\n",
    "Number of columns = Total number of pixels per image (e.g., \n",
    "224x224x3 = 150,528"
   ]
  },
  {
   "cell_type": "code",
   "execution_count": 85,
   "id": "05613b95",
   "metadata": {},
   "outputs": [],
   "source": [
    "# Flatten images\n",
    "train_images_flat = train_images.reshape(len(train_images), -1)\n",
    "test_images_flat = test_images.reshape(len(test_images), -1)"
   ]
  },
  {
   "cell_type": "markdown",
   "id": "e1af0a46",
   "metadata": {},
   "source": [
    "Scales pixel values from their original range ([0, 255] for 8-bit images) to a normalized range of [0, 1].\n",
    "Normalization helps improve the performance of many machine learning algorithms by standardizing the input data."
   ]
  },
  {
   "cell_type": "code",
   "execution_count": 86,
   "id": "acd4c73f",
   "metadata": {},
   "outputs": [],
   "source": [
    "# Normalize pixel values\n",
    "train_images_flat = train_images_flat / 255.0\n",
    "test_images_flat = test_images_flat / 255.0"
   ]
  },
  {
   "cell_type": "markdown",
   "id": "afb1f0c3",
   "metadata": {},
   "source": [
    "Reduces shapes of images from 150,528 to 2"
   ]
  },
  {
   "cell_type": "code",
   "execution_count": 87,
   "id": "1f76eb18",
   "metadata": {},
   "outputs": [],
   "source": [
    "pca = PCA(n_components=2)\n",
    "train_images_pca = pca.fit_transform(train_images_flat)\n",
    "test_images_pca = pca.transform(test_images_flat)"
   ]
  },
  {
   "cell_type": "markdown",
   "id": "792384d8",
   "metadata": {},
   "source": [
    "Training the KMeans model"
   ]
  },
  {
   "cell_type": "code",
   "execution_count": 88,
   "id": "a1632542",
   "metadata": {},
   "outputs": [],
   "source": [
    "kmeans = KMeans(n_clusters=148)\n",
    "kmeans.fit(train_images_pca)\n",
    "train_cluster_labels = kmeans.labels_"
   ]
  },
  {
   "cell_type": "code",
   "execution_count": 89,
   "id": "e168dd4a",
   "metadata": {},
   "outputs": [],
   "source": [
    "test_cluster_labels = kmeans.predict(test_images_pca)"
   ]
  },
  {
   "cell_type": "markdown",
   "id": "082b0e01",
   "metadata": {},
   "source": [
    "View various accuracy scores"
   ]
  },
  {
   "cell_type": "code",
   "execution_count": 90,
   "id": "c7fc47bd",
   "metadata": {},
   "outputs": [
    {
     "name": "stdout",
     "output_type": "stream",
     "text": [
      "ARI Score: 0.008039232624108807\n",
      "NMI Score: 0.24853728183271484\n",
      "Silhouette Score: 0.31\n"
     ]
    }
   ],
   "source": [
    "ari_score = adjusted_rand_score(test_labels, test_cluster_labels)\n",
    "nmi_score = normalized_mutual_info_score(test_labels, test_cluster_labels)\n",
    "silhouette = silhouette_score(test_images_pca, test_cluster_labels)\n",
    "\n",
    "print(f\"ARI Score: {ari_score}\")\n",
    "print(f\"NMI Score: {nmi_score}\")\n",
    "print(f\"Silhouette Score: {silhouette:.2f}\")"
   ]
  },
  {
   "cell_type": "markdown",
   "id": "e820050f",
   "metadata": {},
   "source": [
    "Assigning Ground Truth Lables (Actual labels)"
   ]
  },
  {
   "cell_type": "code",
   "execution_count": 91,
   "id": "9d95e7a8",
   "metadata": {},
   "outputs": [],
   "source": [
    "def map_clusters_to_folder_names(kmeans_labels, true_labels):\n",
    "    cluster_to_folder = {}\n",
    "    for cluster in np.unique(kmeans_labels):\n",
    "        indices = np.where(kmeans_labels == cluster)[0]\n",
    "        cluster_true_labels = true_labels[indices]\n",
    "        most_common_label = Counter(cluster_true_labels).most_common(1)[0][0]\n",
    "        cluster_to_folder[cluster] = most_common_label\n",
    "    return cluster_to_folder"
   ]
  },
  {
   "cell_type": "code",
   "execution_count": 92,
   "id": "2c9d6ae2",
   "metadata": {},
   "outputs": [
    {
     "name": "stdout",
     "output_type": "stream",
     "text": [
      "{0: 35, 1: 86, 2: 99, 3: 82, 4: 109, 5: 11, 6: 13, 7: 3, 8: 45, 9: 57, 10: 49, 11: 115, 12: 101, 13: 54, 14: 146, 15: 39, 16: 117, 17: 131, 18: 54, 19: 20, 20: 17, 21: 147, 22: 134, 23: 34, 24: 60, 25: 105, 26: 101, 27: 9, 28: 14, 29: 20, 30: 40, 31: 146, 32: 131, 33: 1, 34: 58, 35: 82, 36: 56, 37: 118, 38: 43, 39: 122, 40: 119, 41: 91, 42: 68, 43: 73, 44: 73, 45: 105, 46: 9, 47: 82, 48: 130, 49: 26, 50: 9, 51: 28, 52: 27, 53: 82, 54: 127, 55: 61, 56: 128, 57: 16, 58: 118, 59: 101, 60: 29, 61: 99, 62: 91, 63: 14, 64: 20, 65: 61, 66: 109, 67: 43, 68: 56, 69: 40, 70: 9, 71: 110, 72: 124, 73: 7, 74: 9, 75: 40, 76: 17, 77: 29, 78: 34, 79: 16, 80: 135, 81: 82, 82: 84, 83: 12, 84: 101, 85: 121, 86: 108, 87: 15, 88: 109, 89: 54, 90: 21, 91: 88, 92: 9, 93: 146, 94: 5, 95: 146, 96: 44, 97: 29, 98: 39, 99: 57, 100: 57, 101: 127, 102: 38, 103: 101, 104: 30, 105: 109, 106: 100, 107: 65, 108: 65, 109: 73, 110: 14, 111: 125, 112: 142, 113: 1, 114: 123, 115: 10, 116: 127, 117: 83, 118: 74, 119: 6, 120: 65, 121: 147, 122: 33, 123: 83, 124: 55, 125: 134, 126: 29, 127: 32, 128: 109, 129: 14, 130: 141, 131: 81, 132: 82, 133: 9, 134: 101, 135: 40, 136: 100, 137: 44, 138: 57, 139: 60, 140: 14, 141: 9, 142: 109, 143: 54, 144: 127, 145: 101, 146: 40, 147: 12}\n"
     ]
    }
   ],
   "source": [
    "cluster_to_folder_mapping = map_clusters_to_folder_names(kmeans.labels_, train_labels)\n",
    "print(cluster_to_folder_mapping)\n",
    "predicted_labels = [cluster_to_folder_mapping[cluster] for cluster in test_cluster_labels]"
   ]
  },
  {
   "cell_type": "code",
   "execution_count": 93,
   "id": "8b90b7b3",
   "metadata": {},
   "outputs": [
    {
     "name": "stdout",
     "output_type": "stream",
     "text": [
      "0.03936931708260785\n"
     ]
    }
   ],
   "source": [
    "num_images = 0\n",
    "correct_images = 0\n",
    "\n",
    "for i, (true_label, predicted_label) in enumerate(zip(test_labels, predicted_labels)):\n",
    "    num_images = i\n",
    "    if true_label == predicted_label:  \n",
    "#         print(f\"Test Image {i}: True Label = {true_label}, Predicted Label = {predicted_label}\")\n",
    "        correct_images = correct_images + 1\n",
    "        \n",
    "print(correct_images/num_images)"
   ]
  },
  {
   "cell_type": "markdown",
   "id": "619570eb",
   "metadata": {},
   "source": [
    "Accuracy of model = 3.9%"
   ]
  },
  {
   "cell_type": "markdown",
   "id": "2d73c05f",
   "metadata": {},
   "source": [
    "View of clusters in 2D. This is possible because the PCA is 2 dimensions"
   ]
  },
  {
   "cell_type": "code",
   "execution_count": 94,
   "id": "637c9729",
   "metadata": {},
   "outputs": [
    {
     "data": {
      "image/png": "[encoded data removed]",
      "text/plain": [
       "<Figure size 800x600 with 1 Axes>"
      ]
     },
     "metadata": {},
     "output_type": "display_data"
    }
   ],
   "source": [
    "import matplotlib.pyplot as plt\n",
    "\n",
    "# Scatter plot of cluster centers in 2D\n",
    "plt.figure(figsize=(8, 6))\n",
    "plt.scatter(kmeans.cluster_centers_[:, 0], kmeans.cluster_centers_[:, 1], c='red', marker='x')\n",
    "plt.title(\"Cluster Centers in 2D Space\")\n",
    "plt.xlabel(\"Principal Component 1\")\n",
    "plt.ylabel(\"Principal Component 2\")\n",
    "plt.grid()\n",
    "plt.show()"
   ]
  },
  {
   "cell_type": "code",
   "execution_count": 95,
   "id": "8ce5236d",
   "metadata": {},
   "outputs": [],
   "source": [
    "def preprocess_image(image_path, pca, image_size=(224, 224)):\n",
    "    \"\"\"\n",
    "    Preprocess a single image for K-Means prediction.\n",
    "    Args:\n",
    "        image_path (str): Path to the image file.\n",
    "        pca (PCA): Trained PCA model.\n",
    "        image_size (tuple): Target size for the image (width, height).\n",
    "\n",
    "    Returns:\n",
    "        np.array: PCA-transformed image data.\n",
    "    \"\"\"\n",
    "    # Load the image\n",
    "    img = Image.open(image_path).convert('RGB')\n",
    "    \n",
    "    # Resize to the expected size\n",
    "    img = img.resize(image_size)\n",
    "    \n",
    "    # Flatten and normalize the image\n",
    "    img_flat = np.array(img).reshape(-1) / 255.0  # Flatten and normalize to [0, 1]\n",
    "    \n",
    "    # Apply PCA transformation\n",
    "    img_pca = pca.transform([img_flat])  # Transform as a single sample\n",
    "    \n",
    "    return img_pca\n",
    "\n",
    "def predict_image(image_path, pca, kmeans):\n",
    "    \"\"\"\n",
    "    Predict the cluster for a single image.\n",
    "    Args:\n",
    "        image_path (str): Path to the image file.\n",
    "        pca (PCA): Trained PCA model.\n",
    "        kmeans (KMeans): Trained KMeans model.\n",
    "\n",
    "    Returns:\n",
    "        int: Predicted cluster label.\n",
    "    \"\"\"\n",
    "    # Preprocess the image\n",
    "    img_pca = preprocess_image(image_path, pca)\n",
    "    \n",
    "    # Predict the cluster\n",
    "    cluster_label = kmeans.predict(img_pca)\n",
    "    \n",
    "    return cluster_label[0]  # Return the cluster label\n"
   ]
  },
  {
   "cell_type": "markdown",
   "id": "ceb8ac4e",
   "metadata": {},
   "source": [
    "Testing for images of Abra. Model says Abra is cluster 101"
   ]
  },
  {
   "cell_type": "code",
   "execution_count": 96,
   "id": "670e59d8",
   "metadata": {},
   "outputs": [
    {
     "name": "stdout",
     "output_type": "stream",
     "text": [
      "The image belongs to cluster 24\n"
     ]
    }
   ],
   "source": [
    "image_path = \"../../stratified-data/test/Abra/00000000.png\"\n",
    "predicted_cluster = predict_image(image_path, pca, kmeans)\n",
    "print(f\"The image belongs to cluster {predicted_cluster}\")"
   ]
  },
  {
   "cell_type": "code",
   "execution_count": 97,
   "id": "bb8db21b",
   "metadata": {},
   "outputs": [
    {
     "name": "stdout",
     "output_type": "stream",
     "text": [
      "The image belongs to cluster 67\n"
     ]
    }
   ],
   "source": [
    "image_path = \"../../stratified-data/test/Abra/00000052.png\"\n",
    "predicted_cluster = predict_image(image_path, pca, kmeans)\n",
    "print(f\"The image belongs to cluster {predicted_cluster}\")"
   ]
  }
 ],
 "metadata": {
  "kernelspec": {
   "display_name": "Python 3 (ipykernel)",
   "language": "python",
   "name": "python3"
  },
  "language_info": {
   "codemirror_mode": {
    "name": "ipython",
    "version": 3
   },
   "file_extension": ".py",
   "mimetype": "text/x-python",
   "name": "python",
   "nbconvert_exporter": "python",
   "pygments_lexer": "ipython3",
   "version": "3.10.12"
  }
 },
 "nbformat": 4,
 "nbformat_minor": 5
}
